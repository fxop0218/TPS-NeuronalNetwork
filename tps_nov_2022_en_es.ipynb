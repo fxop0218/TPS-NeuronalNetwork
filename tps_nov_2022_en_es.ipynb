{
  "cells": [
    {
      "cell_type": "markdown",
      "metadata": {
        "id": "view-in-github",
        "colab_type": "text"
      },
      "source": [
        "<a href=\"https://colab.research.google.com/github/fxop0218/TPS-NeuronalNetwork/blob/main/tps_nov_2022_en_es.ipynb\" target=\"_parent\"><img src=\"https://colab.research.google.com/assets/colab-badge.svg\" alt=\"Open In Colab\"/></a>"
      ]
    },
    {
      "cell_type": "markdown",
      "metadata": {
        "id": "cFJkT9Sb_fCo"
      },
      "source": [
        "# TPS Nov-2022"
      ]
    },
    {
      "cell_type": "markdown",
      "metadata": {
        "id": "d6RiWl9H_fCq"
      },
      "source": [
        "## Dataset Description\n",
        "In this competition, you are given a folder of submissions that contain predictions for a binary classification task. The ground truth for these rows are provided in the file train_labels.csv. Each file name in the submissions folder corresponds to the logloss score of the the first half of the prediction rows against the ground truth labels in that file. This is effectively the \"training\" set.\n",
        "\n",
        "Your task is to use blend (ensemble) the various submission files to produce better model predictions. You can tell if the blend produces better results because you have the ground truth labels for the first half of the rows. In other words, you can blend two files together, check the score on the first half of the rows, and the score improves, you can submit the results from the rest of the rows to the leaderboard."
      ]
    },
    {
      "cell_type": "markdown",
      "metadata": {
        "id": "fjcZiC18_fCr"
      },
      "source": [
        "## Import libs"
      ]
    },
    {
      "cell_type": "code",
      "execution_count": null,
      "metadata": {
        "colab": {
          "base_uri": "https://localhost:8080/"
        },
        "id": "vRZZl32GCNDi",
        "outputId": "2c3af365-9f35-4322-c02c-bf3e7eb33b20"
      },
      "outputs": [
        {
          "name": "stdout",
          "output_type": "stream",
          "text": [
            "Drive already mounted at /content/gdrive; to attempt to forcibly remount, call drive.mount(\"/content/gdrive\", force_remount=True).\n"
          ]
        }
      ],
      "source": [
        "from google.colab import drive\n",
        "drive.mount('/content/gdrive')\n",
        "from google.colab import files"
      ]
    },
    {
      "cell_type": "code",
      "execution_count": null,
      "metadata": {
        "colab": {
          "base_uri": "https://localhost:8080/"
        },
        "id": "nVg_dww2D3jf",
        "outputId": "ef22c77e-eb72-4211-e67f-e5f87745ce14"
      },
      "outputs": [
        {
          "name": "stdout",
          "output_type": "stream",
          "text": [
            "ls: cannot access 'kaggle.json': No such file or directory\n",
            "cp: cannot stat 'kaggle.json': No such file or directory\n",
            "/content\n",
            "ref                                                         title                                                size  lastUpdated          downloadCount  voteCount  usabilityRating  \n",
            "----------------------------------------------------------  --------------------------------------------------  -----  -------------------  -------------  ---------  ---------------  \n",
            "akshaydattatraykhare/diabetes-dataset                       Diabetes Dataset                                      9KB  2022-10-06 08:55:25          18227        517  1.0              \n",
            "akshaydattatraykhare/data-for-admission-in-the-university   Data for Admission in the University                  4KB  2022-10-27 11:05:45           5195        123  1.0              \n",
            "thedevastator/jobs-dataset-from-glassdoor                   Salary Prediction                                     3MB  2022-11-16 13:52:31           1524         44  1.0              \n",
            "meirnizri/covid19-dataset                                   COVID-19 Dataset                                      5MB  2022-11-13 15:47:17           2154         66  1.0              \n",
            "piterfm/fifa-football-world-cup                             FIFA Football World Cup                              70KB  2022-11-25 09:58:30           1038         41  1.0              \n",
            "dheerajmukati/india-gdp-19602022                            India GDP 1960-2022                                   1KB  2022-11-11 12:08:46            978         31  1.0              \n",
            "whenamancodes/predict-diabities                             Predict Diabetes                                      9KB  2022-11-09 12:18:49           2573         60  1.0              \n",
            "zvr842/global-pollution-by-counties                         Global pollution by counties                         15KB  2022-11-14 10:57:31           1052         26  0.9705882        \n",
            "elmoallistair/commodity-prices-19602021                     Commodity Prices                                      5KB  2022-11-20 12:41:51            649         27  0.9117647        \n",
            "whenamancodes/credit-card-customers-prediction              Credit Card Customers Prediction                    379KB  2022-10-30 13:03:27           3330         71  1.0              \n",
            "swaptr/layoffs-2022                                         Layoffs 2022                                         30KB  2022-11-25 15:08:47           1656         45  1.0              \n",
            "whenamancodes/covid-19-coronavirus-pandemic-dataset         COVID -19 Coronavirus Pandemic Dataset               11KB  2022-09-30 04:05:11          12434        386  1.0              \n",
            "jillanisofttech/flight-price-prediction-dataset             Flight Price Prediction DataSet                     602KB  2022-11-18 10:37:29           1015         32  0.7941176        \n",
            "ifteshanajnin/carinsuranceclaimprediction-classification    Car Insurance Claim Prediction                        2MB  2022-11-14 15:38:26            927         28  1.0              \n",
            "dbarteaux99/stable-diffusion-1-5                            Stable Diffusion 1.5 (normal and EMAonly) with vae    7GB  2022-10-23 15:40:29             53         16  0.9375           \n",
            "maharshipandya/-spotify-tracks-dataset                      🎹 Spotify Tracks Dataset                              8MB  2022-10-22 14:40:15           4070        107  1.0              \n",
            "aneesayoub/world-universities-ranking-2022                  World Universities Ranking 2022                      41KB  2022-11-17 03:47:37           1460         38  0.9117647        \n",
            "hasibalmuzdadid/global-air-pollution-dataset                Global Air Pollution Dataset                        371KB  2022-11-08 14:43:32           2368         63  1.0              \n",
            "thedevastator/cancer-patients-and-air-pollution-a-new-link   Lung Cancer Prediction                               7KB  2022-11-14 13:40:40           1339         41  1.0              \n",
            "salmankhaliq22/road-traffic-collision-dataset               UK Road Traffic Collision Dataset                    99MB  2022-11-09 06:46:16            699         35  1.0              \n",
            "403 - Forbidden\n"
          ]
        }
      ],
      "source": [
        "!ls -lha kaggle.json\n",
        "!pip install -q kaggle\n",
        "!mkdir -p ~/.kaggle\n",
        "!cp kaggle.json ~/.kaggle/\n",
        "!chmod 600 /root/.kaggle/kaggle.json\n",
        "!pwd\n",
        "!kaggle datasets list\n",
        "!kaggle datasets download -d varsharainer/dna-sequencing-classifier"
      ]
    },
    {
      "cell_type": "code",
      "execution_count": null,
      "metadata": {
        "colab": {
          "base_uri": "https://localhost:8080/"
        },
        "id": "B_EJ8RrtATDx",
        "outputId": "a285cbc1-fbb5-405f-b81c-eaaf8d34f290"
      },
      "outputs": [
        {
          "name": "stdout",
          "output_type": "stream",
          "text": [
            "/content/sample_data\n"
          ]
        }
      ],
      "source": [
        "cd sample_data/"
      ]
    },
    {
      "cell_type": "code",
      "execution_count": null,
      "metadata": {
        "colab": {
          "base_uri": "https://localhost:8080/"
        },
        "id": "WyIhfPknJiuy",
        "outputId": "57a78777-7d95-488b-ffcc-d493c0d3e8b7"
      },
      "outputs": [
        {
          "name": "stdout",
          "output_type": "stream",
          "text": [
            "anscombe.json\t\t      README.md\n",
            "california_housing_test.csv   sample_submission.csv\n",
            "california_housing_train.csv  submission_files\n",
            "kaggle.json\t\t      tabular-playground-series-nov-2022\n",
            "mnist_test.csv\t\t      train_labels.csv\n",
            "mnist_train_small.csv\n"
          ]
        }
      ],
      "source": [
        "!ls"
      ]
    },
    {
      "cell_type": "code",
      "execution_count": null,
      "metadata": {
        "colab": {
          "base_uri": "https://localhost:8080/"
        },
        "id": "aIv3aAWf_hYS",
        "outputId": "f7ae0b16-66c6-48aa-a023-3c46d304e246"
      },
      "outputs": [
        {
          "name": "stdout",
          "output_type": "stream",
          "text": [
            "Downloading tabular-playground-series-nov-2022.zip to /content/sample_data\n",
            "100% 1.06G/1.06G [00:06<00:00, 164MB/s]\n",
            "100% 1.06G/1.06G [00:06<00:00, 185MB/s]\n"
          ]
        }
      ],
      "source": [
        "!kaggle competitions download -c tabular-playground-series-nov-2022"
      ]
    },
    {
      "cell_type": "code",
      "execution_count": null,
      "metadata": {
        "colab": {
          "base_uri": "https://localhost:8080/"
        },
        "id": "IHpDeNZIAYeZ",
        "outputId": "7ed1056a-9e57-4cfa-b72f-6a4200f84a81"
      },
      "outputs": [
        {
          "name": "stdout",
          "output_type": "stream",
          "text": [
            "mkdir: cannot create directory ‘tabular-playground-series-nov-2022’: File exists\n"
          ]
        }
      ],
      "source": [
        "!mkdir tabular-playground-series-nov-2022"
      ]
    },
    {
      "cell_type": "code",
      "execution_count": null,
      "metadata": {
        "colab": {
          "base_uri": "https://localhost:8080/"
        },
        "id": "GU4b0RUtH9SU",
        "outputId": "8ada6454-1718-4582-c845-beb2a3b215b6"
      },
      "outputs": [
        {
          "name": "stdout",
          "output_type": "stream",
          "text": [
            "anscombe.json\t\t      README.md\n",
            "california_housing_test.csv   sample_submission.csv\n",
            "california_housing_train.csv  submission_files\n",
            "kaggle.json\t\t      tabular-playground-series-nov-2022\n",
            "mnist_test.csv\t\t      tabular-playground-series-nov-2022.zip\n",
            "mnist_train_small.csv\t      train_labels.csv\n"
          ]
        }
      ],
      "source": [
        "!ls"
      ]
    },
    {
      "cell_type": "code",
      "execution_count": null,
      "metadata": {
        "id": "dH_wWTpNFkkL"
      },
      "outputs": [],
      "source": [
        "!mv tabular-playground-series-nov-2022.zip ./tabular-playground-series-nov-2022"
      ]
    },
    {
      "cell_type": "code",
      "execution_count": null,
      "metadata": {
        "colab": {
          "base_uri": "https://localhost:8080/"
        },
        "id": "4nBOlYVVFwI5",
        "outputId": "ee01a817-3d1b-4ae2-f741-ca4da439e1a9"
      },
      "outputs": [
        {
          "name": "stdout",
          "output_type": "stream",
          "text": [
            "/content/sample_data/tabular-playground-series-nov-2022\n"
          ]
        }
      ],
      "source": [
        "cd tabular-playground-series-nov-2022/"
      ]
    },
    {
      "cell_type": "code",
      "execution_count": null,
      "metadata": {
        "id": "Fbd1VL-eF9FJ"
      },
      "outputs": [],
      "source": [
        "!unzip tabular-playground-series-nov-2022.zip"
      ]
    },
    {
      "cell_type": "code",
      "execution_count": null,
      "metadata": {
        "id": "zyen0mAt_7_r"
      },
      "outputs": [],
      "source": [
        "pip install tensorflow -q"
      ]
    },
    {
      "cell_type": "code",
      "execution_count": null,
      "metadata": {
        "id": "oVRln1TD_fCr"
      },
      "outputs": [],
      "source": [
        "import numpy as np \n",
        "import pandas as pd \n",
        "import seaborn as sns \n",
        "import lightgbm as lgb\n",
        "import matplotlib.pyplot as plt\n",
        "import matplotlib.gridspec as gridspec\n",
        "import os\n",
        "import tensorflow as tf\n",
        "\n",
        "from sklearn.model_selection import train_test_split\n",
        "from sklearn.metrics import mean_squared_error, accuracy_score\n",
        "from sklearn.ensemble import RandomForestRegressor\n",
        "from xgboost import XGBRegressor\n",
        "from tensorflow.keras.layers import Conv1D, AvgPool1D, Dropout, Flatten, Dense, InputLayer"
      ]
    },
    {
      "cell_type": "markdown",
      "metadata": {
        "id": "PlHIr1gD_fCt"
      },
      "source": [
        "## Constants 👨‍🎓"
      ]
    },
    {
      "cell_type": "markdown",
      "metadata": {
        "id": "WzJnGwyj_fCt"
      },
      "source": []
    },
    {
      "cell_type": "code",
      "execution_count": null,
      "metadata": {
        "id": "P95WCoaB_fCt"
      },
      "outputs": [],
      "source": [
        "DIR = \"../tabular-playground-series-nov-2022\"\n",
        "SUBMISSION_DIR_NAME = \"submission_files\"\n",
        "SAMPLE_SUBMISSION_FILENAME = \"sample_submission.csv\"\n",
        "TRAIN_LABELS_FILENAME = \"train_labels.csv\"\n",
        "\n",
        "SUBMISSION_FILES = os.path.join(DIR, SUBMISSION_DIR_NAME)\n",
        "SAMPLE_SUBMISSION = os.path.join(DIR, SAMPLE_SUBMISSION_FILENAME)\n",
        "TRAIN_LABELS = os.path.join(DIR, TRAIN_LABELS_FILENAME)\n",
        "\n",
        "ACTIVATION_FUNCTION = \"relu\"\n",
        "OUTPUT_FUNCTION = \"sigmoid\""
      ]
    },
    {
      "cell_type": "markdown",
      "metadata": {
        "id": "9fNE7qSh_fCu"
      },
      "source": [
        "Functions 🧮"
      ]
    },
    {
      "cell_type": "code",
      "execution_count": null,
      "metadata": {
        "id": "o4Z5iBYH_fCu"
      },
      "outputs": [],
      "source": [
        "def reshape_train(df):\n",
        "    df = df.values\n",
        "    df = df.reshape(len(df), df.shape[1],1)\n",
        "    return df"
      ]
    },
    {
      "cell_type": "markdown",
      "metadata": {
        "id": "2BaR520-_fCv"
      },
      "source": [
        "## Data processing 🐱‍💻"
      ]
    },
    {
      "cell_type": "markdown",
      "metadata": {
        "id": "-7kwzmtm_fCv"
      },
      "source": [
        "**🟦EN** Import all the dataframes and the list of filen into submission_files\n",
        "\n",
        "**🟥ES** Importamos todos los dataframes y la lista de archivos dentro de submission_files"
      ]
    },
    {
      "cell_type": "code",
      "execution_count": null,
      "metadata": {
        "id": "atuzueM0_fCv"
      },
      "outputs": [],
      "source": [
        "d = pd.read_csv(SAMPLE_SUBMISSION)\n",
        "labels = pd.read_csv(TRAIN_LABELS, index_col=\"id\")\n",
        "submission_files = sorted(os.listdir(SUBMISSION_FILES))"
      ]
    },
    {
      "cell_type": "markdown",
      "metadata": {
        "id": "mcis3NHE_fCw"
      },
      "source": [
        "**🟦EN** Read the first CSV of submission_file\n",
        "\n",
        "**🟥ES** Leer el primer archvivo de la carpata submission file"
      ]
    },
    {
      "cell_type": "code",
      "execution_count": null,
      "metadata": {
        "id": "xrQvhjNA_fCw"
      },
      "outputs": [],
      "source": [
        "sub_fil = pd.read_csv(os.path.join(SUBMISSION_FILES, submission_files[0]))"
      ]
    },
    {
      "cell_type": "code",
      "execution_count": null,
      "metadata": {
        "colab": {
          "base_uri": "https://localhost:8080/",
          "height": 206
        },
        "id": "M4PU7EW0_fCw",
        "outputId": "5c27b1c3-c025-40d3-b7ba-f7f0a3a56aa9"
      },
      "outputs": [
        {
          "data": {
            "text/html": [
              "\n",
              "  <div id=\"df-9bb3a4fb-88a3-4b83-8f05-4bbc51fa84de\">\n",
              "    <div class=\"colab-df-container\">\n",
              "      <div>\n",
              "<style scoped>\n",
              "    .dataframe tbody tr th:only-of-type {\n",
              "        vertical-align: middle;\n",
              "    }\n",
              "\n",
              "    .dataframe tbody tr th {\n",
              "        vertical-align: top;\n",
              "    }\n",
              "\n",
              "    .dataframe thead th {\n",
              "        text-align: right;\n",
              "    }\n",
              "</style>\n",
              "<table border=\"1\" class=\"dataframe\">\n",
              "  <thead>\n",
              "    <tr style=\"text-align: right;\">\n",
              "      <th></th>\n",
              "      <th>id</th>\n",
              "      <th>pred</th>\n",
              "    </tr>\n",
              "  </thead>\n",
              "  <tbody>\n",
              "    <tr>\n",
              "      <th>0</th>\n",
              "      <td>0</td>\n",
              "      <td>0.709336</td>\n",
              "    </tr>\n",
              "    <tr>\n",
              "      <th>1</th>\n",
              "      <td>1</td>\n",
              "      <td>0.452988</td>\n",
              "    </tr>\n",
              "    <tr>\n",
              "      <th>2</th>\n",
              "      <td>2</td>\n",
              "      <td>0.675462</td>\n",
              "    </tr>\n",
              "    <tr>\n",
              "      <th>3</th>\n",
              "      <td>3</td>\n",
              "      <td>0.481046</td>\n",
              "    </tr>\n",
              "    <tr>\n",
              "      <th>4</th>\n",
              "      <td>4</td>\n",
              "      <td>0.957339</td>\n",
              "    </tr>\n",
              "  </tbody>\n",
              "</table>\n",
              "</div>\n",
              "      <button class=\"colab-df-convert\" onclick=\"convertToInteractive('df-9bb3a4fb-88a3-4b83-8f05-4bbc51fa84de')\"\n",
              "              title=\"Convert this dataframe to an interactive table.\"\n",
              "              style=\"display:none;\">\n",
              "        \n",
              "  <svg xmlns=\"http://www.w3.org/2000/svg\" height=\"24px\"viewBox=\"0 0 24 24\"\n",
              "       width=\"24px\">\n",
              "    <path d=\"M0 0h24v24H0V0z\" fill=\"none\"/>\n",
              "    <path d=\"M18.56 5.44l.94 2.06.94-2.06 2.06-.94-2.06-.94-.94-2.06-.94 2.06-2.06.94zm-11 1L8.5 8.5l.94-2.06 2.06-.94-2.06-.94L8.5 2.5l-.94 2.06-2.06.94zm10 10l.94 2.06.94-2.06 2.06-.94-2.06-.94-.94-2.06-.94 2.06-2.06.94z\"/><path d=\"M17.41 7.96l-1.37-1.37c-.4-.4-.92-.59-1.43-.59-.52 0-1.04.2-1.43.59L10.3 9.45l-7.72 7.72c-.78.78-.78 2.05 0 2.83L4 21.41c.39.39.9.59 1.41.59.51 0 1.02-.2 1.41-.59l7.78-7.78 2.81-2.81c.8-.78.8-2.07 0-2.86zM5.41 20L4 18.59l7.72-7.72 1.47 1.35L5.41 20z\"/>\n",
              "  </svg>\n",
              "      </button>\n",
              "      \n",
              "  <style>\n",
              "    .colab-df-container {\n",
              "      display:flex;\n",
              "      flex-wrap:wrap;\n",
              "      gap: 12px;\n",
              "    }\n",
              "\n",
              "    .colab-df-convert {\n",
              "      background-color: #E8F0FE;\n",
              "      border: none;\n",
              "      border-radius: 50%;\n",
              "      cursor: pointer;\n",
              "      display: none;\n",
              "      fill: #1967D2;\n",
              "      height: 32px;\n",
              "      padding: 0 0 0 0;\n",
              "      width: 32px;\n",
              "    }\n",
              "\n",
              "    .colab-df-convert:hover {\n",
              "      background-color: #E2EBFA;\n",
              "      box-shadow: 0px 1px 2px rgba(60, 64, 67, 0.3), 0px 1px 3px 1px rgba(60, 64, 67, 0.15);\n",
              "      fill: #174EA6;\n",
              "    }\n",
              "\n",
              "    [theme=dark] .colab-df-convert {\n",
              "      background-color: #3B4455;\n",
              "      fill: #D2E3FC;\n",
              "    }\n",
              "\n",
              "    [theme=dark] .colab-df-convert:hover {\n",
              "      background-color: #434B5C;\n",
              "      box-shadow: 0px 1px 3px 1px rgba(0, 0, 0, 0.15);\n",
              "      filter: drop-shadow(0px 1px 2px rgba(0, 0, 0, 0.3));\n",
              "      fill: #FFFFFF;\n",
              "    }\n",
              "  </style>\n",
              "\n",
              "      <script>\n",
              "        const buttonEl =\n",
              "          document.querySelector('#df-9bb3a4fb-88a3-4b83-8f05-4bbc51fa84de button.colab-df-convert');\n",
              "        buttonEl.style.display =\n",
              "          google.colab.kernel.accessAllowed ? 'block' : 'none';\n",
              "\n",
              "        async function convertToInteractive(key) {\n",
              "          const element = document.querySelector('#df-9bb3a4fb-88a3-4b83-8f05-4bbc51fa84de');\n",
              "          const dataTable =\n",
              "            await google.colab.kernel.invokeFunction('convertToInteractive',\n",
              "                                                     [key], {});\n",
              "          if (!dataTable) return;\n",
              "\n",
              "          const docLinkHtml = 'Like what you see? Visit the ' +\n",
              "            '<a target=\"_blank\" href=https://colab.research.google.com/notebooks/data_table.ipynb>data table notebook</a>'\n",
              "            + ' to learn more about interactive tables.';\n",
              "          element.innerHTML = '';\n",
              "          dataTable['output_type'] = 'display_data';\n",
              "          await google.colab.output.renderOutput(dataTable, element);\n",
              "          const docLink = document.createElement('div');\n",
              "          docLink.innerHTML = docLinkHtml;\n",
              "          element.appendChild(docLink);\n",
              "        }\n",
              "      </script>\n",
              "    </div>\n",
              "  </div>\n",
              "  "
            ],
            "text/plain": [
              "   id      pred\n",
              "0   0  0.709336\n",
              "1   1  0.452988\n",
              "2   2  0.675462\n",
              "3   3  0.481046\n",
              "4   4  0.957339"
            ]
          },
          "execution_count": 17,
          "metadata": {},
          "output_type": "execute_result"
        }
      ],
      "source": [
        "sub_fil.head()"
      ]
    },
    {
      "cell_type": "markdown",
      "metadata": {
        "id": "RII8i8HG_fCw"
      },
      "source": [
        "**🟦EN** Put into variable all the rows in the CSV file\n",
        "\n",
        "**🟥ES** Poner dentro de la varable todos los CSV file"
      ]
    },
    {
      "cell_type": "code",
      "execution_count": null,
      "metadata": {
        "id": "eegR_i35_fCx"
      },
      "outputs": [],
      "source": [
        "num_labels = labels.shape[0]"
      ]
    },
    {
      "cell_type": "markdown",
      "metadata": {
        "id": "evLzwO9h_fCx"
      },
      "source": [
        "**🟦EN** Create a array of zeros\n",
        "\n",
        "**🟥ES** Creamos una array de ceros"
      ]
    },
    {
      "cell_type": "code",
      "execution_count": null,
      "metadata": {
        "colab": {
          "base_uri": "https://localhost:8080/"
        },
        "id": "ndjy_dtQ_fCx",
        "outputId": "e5ac9b7f-b74b-4584-b375-41dd95052bc6"
      },
      "outputs": [
        {
          "data": {
            "text/plain": [
              "array([[0., 0., 0., ..., 0., 0., 0.],\n",
              "       [0., 0., 0., ..., 0., 0., 0.],\n",
              "       [0., 0., 0., ..., 0., 0., 0.],\n",
              "       ...,\n",
              "       [0., 0., 0., ..., 0., 0., 0.],\n",
              "       [0., 0., 0., ..., 0., 0., 0.],\n",
              "       [0., 0., 0., ..., 0., 0., 0.]])"
            ]
          },
          "execution_count": 19,
          "metadata": {},
          "output_type": "execute_result"
        }
      ],
      "source": [
        "X_train = np.zeros((sub_fil.shape[0], len(submission_files)))\n",
        "X_train"
      ]
    },
    {
      "cell_type": "markdown",
      "metadata": {
        "id": "d2iyeJPV_fCx"
      },
      "source": [
        "**🟦EN** Create a dataframa with all the values in the submission files CSVs\n",
        "\n",
        "**🟥ES** Creamos un dataframe con todos los valores del submission file"
      ]
    },
    {
      "cell_type": "code",
      "execution_count": null,
      "metadata": {
        "colab": {
          "base_uri": "https://localhost:8080/",
          "height": 300
        },
        "id": "coY4NG2T_fCy",
        "outputId": "ffc86632-f234-42c6-fa13-00542e0ee2cc"
      },
      "outputs": [
        {
          "data": {
            "text/html": [
              "\n",
              "  <div id=\"df-b9ab7315-6dd1-450c-b925-8b2df61f45d8\">\n",
              "    <div class=\"colab-df-container\">\n",
              "      <div>\n",
              "<style scoped>\n",
              "    .dataframe tbody tr th:only-of-type {\n",
              "        vertical-align: middle;\n",
              "    }\n",
              "\n",
              "    .dataframe tbody tr th {\n",
              "        vertical-align: top;\n",
              "    }\n",
              "\n",
              "    .dataframe thead th {\n",
              "        text-align: right;\n",
              "    }\n",
              "</style>\n",
              "<table border=\"1\" class=\"dataframe\">\n",
              "  <thead>\n",
              "    <tr style=\"text-align: right;\">\n",
              "      <th></th>\n",
              "      <th>0.6222863195.csv</th>\n",
              "      <th>0.6223807245.csv</th>\n",
              "      <th>0.6225426578.csv</th>\n",
              "      <th>0.6247722291.csv</th>\n",
              "      <th>0.6253455681.csv</th>\n",
              "      <th>0.6254850917.csv</th>\n",
              "      <th>0.6255093621.csv</th>\n",
              "      <th>0.6260141578.csv</th>\n",
              "      <th>0.6263493693.csv</th>\n",
              "      <th>0.6272779211.csv</th>\n",
              "      <th>...</th>\n",
              "      <th>0.7519100517.csv</th>\n",
              "      <th>0.7519556278.csv</th>\n",
              "      <th>0.7520219713.csv</th>\n",
              "      <th>0.7521219579.csv</th>\n",
              "      <th>0.7522329272.csv</th>\n",
              "      <th>0.7523602310.csv</th>\n",
              "      <th>0.7526089604.csv</th>\n",
              "      <th>0.7526999358.csv</th>\n",
              "      <th>0.7551167673.csv</th>\n",
              "      <th>0.7575039918.csv</th>\n",
              "    </tr>\n",
              "  </thead>\n",
              "  <tbody>\n",
              "    <tr>\n",
              "      <th>0</th>\n",
              "      <td>0.709336</td>\n",
              "      <td>0.799007</td>\n",
              "      <td>0.851891</td>\n",
              "      <td>0.537158</td>\n",
              "      <td>0.623930</td>\n",
              "      <td>0.705970</td>\n",
              "      <td>0.503437</td>\n",
              "      <td>0.633185</td>\n",
              "      <td>0.641550</td>\n",
              "      <td>0.666604</td>\n",
              "      <td>...</td>\n",
              "      <td>0.769207</td>\n",
              "      <td>0.750250</td>\n",
              "      <td>0.663370</td>\n",
              "      <td>0.739333</td>\n",
              "      <td>0.822384</td>\n",
              "      <td>0.749498</td>\n",
              "      <td>0.729800</td>\n",
              "      <td>0.867847</td>\n",
              "      <td>0.745888</td>\n",
              "      <td>0.787</td>\n",
              "    </tr>\n",
              "    <tr>\n",
              "      <th>1</th>\n",
              "      <td>0.452988</td>\n",
              "      <td>0.364453</td>\n",
              "      <td>0.567582</td>\n",
              "      <td>0.354468</td>\n",
              "      <td>0.513818</td>\n",
              "      <td>0.584119</td>\n",
              "      <td>0.454809</td>\n",
              "      <td>0.238501</td>\n",
              "      <td>0.472171</td>\n",
              "      <td>0.522314</td>\n",
              "      <td>...</td>\n",
              "      <td>0.640052</td>\n",
              "      <td>0.794052</td>\n",
              "      <td>0.721298</td>\n",
              "      <td>0.804369</td>\n",
              "      <td>0.620626</td>\n",
              "      <td>0.733606</td>\n",
              "      <td>0.816942</td>\n",
              "      <td>0.814229</td>\n",
              "      <td>0.598331</td>\n",
              "      <td>0.547</td>\n",
              "    </tr>\n",
              "    <tr>\n",
              "      <th>2</th>\n",
              "      <td>0.675462</td>\n",
              "      <td>0.842260</td>\n",
              "      <td>0.800013</td>\n",
              "      <td>0.525229</td>\n",
              "      <td>0.692071</td>\n",
              "      <td>0.715418</td>\n",
              "      <td>0.651008</td>\n",
              "      <td>0.609124</td>\n",
              "      <td>0.691198</td>\n",
              "      <td>0.609994</td>\n",
              "      <td>...</td>\n",
              "      <td>0.812841</td>\n",
              "      <td>0.779859</td>\n",
              "      <td>0.865657</td>\n",
              "      <td>0.828493</td>\n",
              "      <td>0.763010</td>\n",
              "      <td>0.802883</td>\n",
              "      <td>0.806891</td>\n",
              "      <td>0.896058</td>\n",
              "      <td>0.855776</td>\n",
              "      <td>0.667</td>\n",
              "    </tr>\n",
              "    <tr>\n",
              "      <th>3</th>\n",
              "      <td>0.481046</td>\n",
              "      <td>0.577118</td>\n",
              "      <td>0.683032</td>\n",
              "      <td>0.541356</td>\n",
              "      <td>0.630088</td>\n",
              "      <td>0.664514</td>\n",
              "      <td>0.413373</td>\n",
              "      <td>0.508210</td>\n",
              "      <td>0.526140</td>\n",
              "      <td>0.584565</td>\n",
              "      <td>...</td>\n",
              "      <td>0.824703</td>\n",
              "      <td>0.799698</td>\n",
              "      <td>0.800130</td>\n",
              "      <td>0.716604</td>\n",
              "      <td>0.603779</td>\n",
              "      <td>0.708499</td>\n",
              "      <td>0.844837</td>\n",
              "      <td>0.853057</td>\n",
              "      <td>0.850657</td>\n",
              "      <td>0.622</td>\n",
              "    </tr>\n",
              "    <tr>\n",
              "      <th>4</th>\n",
              "      <td>0.957339</td>\n",
              "      <td>0.910337</td>\n",
              "      <td>0.917322</td>\n",
              "      <td>0.874487</td>\n",
              "      <td>0.787595</td>\n",
              "      <td>0.854273</td>\n",
              "      <td>0.843846</td>\n",
              "      <td>0.876749</td>\n",
              "      <td>0.821128</td>\n",
              "      <td>0.913054</td>\n",
              "      <td>...</td>\n",
              "      <td>0.934803</td>\n",
              "      <td>0.900150</td>\n",
              "      <td>0.960911</td>\n",
              "      <td>0.906037</td>\n",
              "      <td>0.961240</td>\n",
              "      <td>0.935608</td>\n",
              "      <td>0.889757</td>\n",
              "      <td>0.978505</td>\n",
              "      <td>0.953681</td>\n",
              "      <td>0.934</td>\n",
              "    </tr>\n",
              "  </tbody>\n",
              "</table>\n",
              "<p>5 rows × 5000 columns</p>\n",
              "</div>\n",
              "      <button class=\"colab-df-convert\" onclick=\"convertToInteractive('df-b9ab7315-6dd1-450c-b925-8b2df61f45d8')\"\n",
              "              title=\"Convert this dataframe to an interactive table.\"\n",
              "              style=\"display:none;\">\n",
              "        \n",
              "  <svg xmlns=\"http://www.w3.org/2000/svg\" height=\"24px\"viewBox=\"0 0 24 24\"\n",
              "       width=\"24px\">\n",
              "    <path d=\"M0 0h24v24H0V0z\" fill=\"none\"/>\n",
              "    <path d=\"M18.56 5.44l.94 2.06.94-2.06 2.06-.94-2.06-.94-.94-2.06-.94 2.06-2.06.94zm-11 1L8.5 8.5l.94-2.06 2.06-.94-2.06-.94L8.5 2.5l-.94 2.06-2.06.94zm10 10l.94 2.06.94-2.06 2.06-.94-2.06-.94-.94-2.06-.94 2.06-2.06.94z\"/><path d=\"M17.41 7.96l-1.37-1.37c-.4-.4-.92-.59-1.43-.59-.52 0-1.04.2-1.43.59L10.3 9.45l-7.72 7.72c-.78.78-.78 2.05 0 2.83L4 21.41c.39.39.9.59 1.41.59.51 0 1.02-.2 1.41-.59l7.78-7.78 2.81-2.81c.8-.78.8-2.07 0-2.86zM5.41 20L4 18.59l7.72-7.72 1.47 1.35L5.41 20z\"/>\n",
              "  </svg>\n",
              "      </button>\n",
              "      \n",
              "  <style>\n",
              "    .colab-df-container {\n",
              "      display:flex;\n",
              "      flex-wrap:wrap;\n",
              "      gap: 12px;\n",
              "    }\n",
              "\n",
              "    .colab-df-convert {\n",
              "      background-color: #E8F0FE;\n",
              "      border: none;\n",
              "      border-radius: 50%;\n",
              "      cursor: pointer;\n",
              "      display: none;\n",
              "      fill: #1967D2;\n",
              "      height: 32px;\n",
              "      padding: 0 0 0 0;\n",
              "      width: 32px;\n",
              "    }\n",
              "\n",
              "    .colab-df-convert:hover {\n",
              "      background-color: #E2EBFA;\n",
              "      box-shadow: 0px 1px 2px rgba(60, 64, 67, 0.3), 0px 1px 3px 1px rgba(60, 64, 67, 0.15);\n",
              "      fill: #174EA6;\n",
              "    }\n",
              "\n",
              "    [theme=dark] .colab-df-convert {\n",
              "      background-color: #3B4455;\n",
              "      fill: #D2E3FC;\n",
              "    }\n",
              "\n",
              "    [theme=dark] .colab-df-convert:hover {\n",
              "      background-color: #434B5C;\n",
              "      box-shadow: 0px 1px 3px 1px rgba(0, 0, 0, 0.15);\n",
              "      filter: drop-shadow(0px 1px 2px rgba(0, 0, 0, 0.3));\n",
              "      fill: #FFFFFF;\n",
              "    }\n",
              "  </style>\n",
              "\n",
              "      <script>\n",
              "        const buttonEl =\n",
              "          document.querySelector('#df-b9ab7315-6dd1-450c-b925-8b2df61f45d8 button.colab-df-convert');\n",
              "        buttonEl.style.display =\n",
              "          google.colab.kernel.accessAllowed ? 'block' : 'none';\n",
              "\n",
              "        async function convertToInteractive(key) {\n",
              "          const element = document.querySelector('#df-b9ab7315-6dd1-450c-b925-8b2df61f45d8');\n",
              "          const dataTable =\n",
              "            await google.colab.kernel.invokeFunction('convertToInteractive',\n",
              "                                                     [key], {});\n",
              "          if (!dataTable) return;\n",
              "\n",
              "          const docLinkHtml = 'Like what you see? Visit the ' +\n",
              "            '<a target=\"_blank\" href=https://colab.research.google.com/notebooks/data_table.ipynb>data table notebook</a>'\n",
              "            + ' to learn more about interactive tables.';\n",
              "          element.innerHTML = '';\n",
              "          dataTable['output_type'] = 'display_data';\n",
              "          await google.colab.output.renderOutput(dataTable, element);\n",
              "          const docLink = document.createElement('div');\n",
              "          docLink.innerHTML = docLinkHtml;\n",
              "          element.appendChild(docLink);\n",
              "        }\n",
              "      </script>\n",
              "    </div>\n",
              "  </div>\n",
              "  "
            ],
            "text/plain": [
              "   0.6222863195.csv  0.6223807245.csv  0.6225426578.csv  0.6247722291.csv  \\\n",
              "0          0.709336          0.799007          0.851891          0.537158   \n",
              "1          0.452988          0.364453          0.567582          0.354468   \n",
              "2          0.675462          0.842260          0.800013          0.525229   \n",
              "3          0.481046          0.577118          0.683032          0.541356   \n",
              "4          0.957339          0.910337          0.917322          0.874487   \n",
              "\n",
              "   0.6253455681.csv  0.6254850917.csv  0.6255093621.csv  0.6260141578.csv  \\\n",
              "0          0.623930          0.705970          0.503437          0.633185   \n",
              "1          0.513818          0.584119          0.454809          0.238501   \n",
              "2          0.692071          0.715418          0.651008          0.609124   \n",
              "3          0.630088          0.664514          0.413373          0.508210   \n",
              "4          0.787595          0.854273          0.843846          0.876749   \n",
              "\n",
              "   0.6263493693.csv  0.6272779211.csv  ...  0.7519100517.csv  \\\n",
              "0          0.641550          0.666604  ...          0.769207   \n",
              "1          0.472171          0.522314  ...          0.640052   \n",
              "2          0.691198          0.609994  ...          0.812841   \n",
              "3          0.526140          0.584565  ...          0.824703   \n",
              "4          0.821128          0.913054  ...          0.934803   \n",
              "\n",
              "   0.7519556278.csv  0.7520219713.csv  0.7521219579.csv  0.7522329272.csv  \\\n",
              "0          0.750250          0.663370          0.739333          0.822384   \n",
              "1          0.794052          0.721298          0.804369          0.620626   \n",
              "2          0.779859          0.865657          0.828493          0.763010   \n",
              "3          0.799698          0.800130          0.716604          0.603779   \n",
              "4          0.900150          0.960911          0.906037          0.961240   \n",
              "\n",
              "   0.7523602310.csv  0.7526089604.csv  0.7526999358.csv  0.7551167673.csv  \\\n",
              "0          0.749498          0.729800          0.867847          0.745888   \n",
              "1          0.733606          0.816942          0.814229          0.598331   \n",
              "2          0.802883          0.806891          0.896058          0.855776   \n",
              "3          0.708499          0.844837          0.853057          0.850657   \n",
              "4          0.935608          0.889757          0.978505          0.953681   \n",
              "\n",
              "   0.7575039918.csv  \n",
              "0             0.787  \n",
              "1             0.547  \n",
              "2             0.667  \n",
              "3             0.622  \n",
              "4             0.934  \n",
              "\n",
              "[5 rows x 5000 columns]"
            ]
          },
          "execution_count": 20,
          "metadata": {},
          "output_type": "execute_result"
        }
      ],
      "source": [
        "for i, file_name in enumerate(submission_files):\n",
        "    sub_file = pd.read_csv(os.path.join(SUBMISSION_FILES, file_name))\n",
        "    X_train[:,i] = sub_file.pred.values\n",
        "\n",
        "X_train_df = pd.DataFrame(X_train, columns=submission_files)\n",
        "X_train_df.head()"
      ]
    },
    {
      "cell_type": "code",
      "execution_count": null,
      "metadata": {
        "colab": {
          "base_uri": "https://localhost:8080/",
          "height": 374
        },
        "id": "BM1JafM9_fCy",
        "outputId": "e1e9dc70-3f00-4987-9751-2e5a6ad7875b"
      },
      "outputs": [
        {
          "data": {
            "image/png": "[encoded data removed]",
            "text/plain": [
              "<Figure size 1080x360 with 1 Axes>"
            ]
          },
          "metadata": {},
          "output_type": "display_data"
        },
        {
          "name": "stdout",
          "output_type": "stream",
          "text": [
            "Mean Value: 0.600081020475\n"
          ]
        }
      ],
      "source": [
        "sns.set()\n",
        "plt.figure(figsize=(15, 5))\n",
        "plt.gca().set_facecolor('lightblue')\n",
        "plt.hist(sub_fil['pred'], bins=500, color='Green')\n",
        "    \n",
        "plt.xlabel('Label')\n",
        "plt.title('Submission', fontsize=16)\n",
        "plt.show() \n",
        "\n",
        "print('Mean Value:', sub_fil['pred'].mean())"
      ]
    },
    {
      "cell_type": "markdown",
      "metadata": {
        "id": "ES2M1JTZ_fCy"
      },
      "source": [
        "## Train 🧠"
      ]
    },
    {
      "cell_type": "markdown",
      "metadata": {
        "id": "sHTjyKX3_fCy"
      },
      "source": [
        "**🟦EN** Split in train and validation \n",
        "\n",
        "**🟥ES** Separar en entreno y validación"
      ]
    },
    {
      "cell_type": "code",
      "execution_count": null,
      "metadata": {
        "id": "jOKRgdXJ_fCy"
      },
      "outputs": [],
      "source": [
        "X_train, X_val, y_train, y_val = train_test_split(X_train_df.iloc[:num_labels], labels, test_size = 0.2)"
      ]
    },
    {
      "cell_type": "code",
      "execution_count": null,
      "metadata": {
        "colab": {
          "base_uri": "https://localhost:8080/",
          "height": 300
        },
        "id": "svxr0U8b_fCy",
        "outputId": "6b86b0c6-2ed3-4071-fcdc-9df710886751"
      },
      "outputs": [
        {
          "data": {
            "text/html": [
              "\n",
              "  <div id=\"df-3ce575b5-090b-4805-ba9c-c7af12bdbbd8\">\n",
              "    <div class=\"colab-df-container\">\n",
              "      <div>\n",
              "<style scoped>\n",
              "    .dataframe tbody tr th:only-of-type {\n",
              "        vertical-align: middle;\n",
              "    }\n",
              "\n",
              "    .dataframe tbody tr th {\n",
              "        vertical-align: top;\n",
              "    }\n",
              "\n",
              "    .dataframe thead th {\n",
              "        text-align: right;\n",
              "    }\n",
              "</style>\n",
              "<table border=\"1\" class=\"dataframe\">\n",
              "  <thead>\n",
              "    <tr style=\"text-align: right;\">\n",
              "      <th></th>\n",
              "      <th>0.6222863195.csv</th>\n",
              "      <th>0.6223807245.csv</th>\n",
              "      <th>0.6225426578.csv</th>\n",
              "      <th>0.6247722291.csv</th>\n",
              "      <th>0.6253455681.csv</th>\n",
              "      <th>0.6254850917.csv</th>\n",
              "      <th>0.6255093621.csv</th>\n",
              "      <th>0.6260141578.csv</th>\n",
              "      <th>0.6263493693.csv</th>\n",
              "      <th>0.6272779211.csv</th>\n",
              "      <th>...</th>\n",
              "      <th>0.7519100517.csv</th>\n",
              "      <th>0.7519556278.csv</th>\n",
              "      <th>0.7520219713.csv</th>\n",
              "      <th>0.7521219579.csv</th>\n",
              "      <th>0.7522329272.csv</th>\n",
              "      <th>0.7523602310.csv</th>\n",
              "      <th>0.7526089604.csv</th>\n",
              "      <th>0.7526999358.csv</th>\n",
              "      <th>0.7551167673.csv</th>\n",
              "      <th>0.7575039918.csv</th>\n",
              "    </tr>\n",
              "  </thead>\n",
              "  <tbody>\n",
              "    <tr>\n",
              "      <th>3468</th>\n",
              "      <td>0.787976</td>\n",
              "      <td>0.766146</td>\n",
              "      <td>0.811711</td>\n",
              "      <td>0.647719</td>\n",
              "      <td>0.704782</td>\n",
              "      <td>0.734059</td>\n",
              "      <td>0.782494</td>\n",
              "      <td>0.816323</td>\n",
              "      <td>0.648370</td>\n",
              "      <td>0.784312</td>\n",
              "      <td>...</td>\n",
              "      <td>0.799370</td>\n",
              "      <td>0.778332</td>\n",
              "      <td>0.796773</td>\n",
              "      <td>0.834425</td>\n",
              "      <td>0.897805</td>\n",
              "      <td>0.830093</td>\n",
              "      <td>0.764100</td>\n",
              "      <td>0.862933</td>\n",
              "      <td>0.823330</td>\n",
              "      <td>0.498</td>\n",
              "    </tr>\n",
              "    <tr>\n",
              "      <th>1497</th>\n",
              "      <td>0.391887</td>\n",
              "      <td>0.287414</td>\n",
              "      <td>0.243511</td>\n",
              "      <td>0.473249</td>\n",
              "      <td>0.544193</td>\n",
              "      <td>0.492985</td>\n",
              "      <td>0.277390</td>\n",
              "      <td>0.413970</td>\n",
              "      <td>0.542709</td>\n",
              "      <td>0.522338</td>\n",
              "      <td>...</td>\n",
              "      <td>0.623313</td>\n",
              "      <td>0.635724</td>\n",
              "      <td>0.569871</td>\n",
              "      <td>0.640815</td>\n",
              "      <td>0.561820</td>\n",
              "      <td>0.666642</td>\n",
              "      <td>0.658158</td>\n",
              "      <td>0.530511</td>\n",
              "      <td>0.692908</td>\n",
              "      <td>0.100</td>\n",
              "    </tr>\n",
              "    <tr>\n",
              "      <th>14256</th>\n",
              "      <td>0.842185</td>\n",
              "      <td>0.681377</td>\n",
              "      <td>0.844378</td>\n",
              "      <td>0.809279</td>\n",
              "      <td>0.740575</td>\n",
              "      <td>0.714270</td>\n",
              "      <td>0.725002</td>\n",
              "      <td>0.871127</td>\n",
              "      <td>0.690761</td>\n",
              "      <td>0.568001</td>\n",
              "      <td>...</td>\n",
              "      <td>0.950636</td>\n",
              "      <td>0.767206</td>\n",
              "      <td>0.889435</td>\n",
              "      <td>0.808158</td>\n",
              "      <td>0.842411</td>\n",
              "      <td>0.750731</td>\n",
              "      <td>0.787292</td>\n",
              "      <td>0.916857</td>\n",
              "      <td>0.909724</td>\n",
              "      <td>0.547</td>\n",
              "    </tr>\n",
              "    <tr>\n",
              "      <th>4430</th>\n",
              "      <td>0.420151</td>\n",
              "      <td>0.833313</td>\n",
              "      <td>0.645314</td>\n",
              "      <td>0.672589</td>\n",
              "      <td>0.559100</td>\n",
              "      <td>0.743526</td>\n",
              "      <td>0.612983</td>\n",
              "      <td>0.955029</td>\n",
              "      <td>0.467677</td>\n",
              "      <td>0.357287</td>\n",
              "      <td>...</td>\n",
              "      <td>0.618739</td>\n",
              "      <td>0.693751</td>\n",
              "      <td>0.627233</td>\n",
              "      <td>0.613067</td>\n",
              "      <td>0.873589</td>\n",
              "      <td>0.632866</td>\n",
              "      <td>0.643497</td>\n",
              "      <td>0.806996</td>\n",
              "      <td>0.660538</td>\n",
              "      <td>0.700</td>\n",
              "    </tr>\n",
              "    <tr>\n",
              "      <th>11526</th>\n",
              "      <td>0.925025</td>\n",
              "      <td>0.990435</td>\n",
              "      <td>0.984974</td>\n",
              "      <td>0.981608</td>\n",
              "      <td>0.807949</td>\n",
              "      <td>0.872318</td>\n",
              "      <td>0.967987</td>\n",
              "      <td>0.985540</td>\n",
              "      <td>0.823562</td>\n",
              "      <td>0.948422</td>\n",
              "      <td>...</td>\n",
              "      <td>0.955587</td>\n",
              "      <td>0.934242</td>\n",
              "      <td>0.971446</td>\n",
              "      <td>0.958714</td>\n",
              "      <td>0.993526</td>\n",
              "      <td>0.972074</td>\n",
              "      <td>0.920549</td>\n",
              "      <td>0.986619</td>\n",
              "      <td>0.985780</td>\n",
              "      <td>0.840</td>\n",
              "    </tr>\n",
              "  </tbody>\n",
              "</table>\n",
              "<p>5 rows × 5000 columns</p>\n",
              "</div>\n",
              "      <button class=\"colab-df-convert\" onclick=\"convertToInteractive('df-3ce575b5-090b-4805-ba9c-c7af12bdbbd8')\"\n",
              "              title=\"Convert this dataframe to an interactive table.\"\n",
              "              style=\"display:none;\">\n",
              "        \n",
              "  <svg xmlns=\"http://www.w3.org/2000/svg\" height=\"24px\"viewBox=\"0 0 24 24\"\n",
              "       width=\"24px\">\n",
              "    <path d=\"M0 0h24v24H0V0z\" fill=\"none\"/>\n",
              "    <path d=\"M18.56 5.44l.94 2.06.94-2.06 2.06-.94-2.06-.94-.94-2.06-.94 2.06-2.06.94zm-11 1L8.5 8.5l.94-2.06 2.06-.94-2.06-.94L8.5 2.5l-.94 2.06-2.06.94zm10 10l.94 2.06.94-2.06 2.06-.94-2.06-.94-.94-2.06-.94 2.06-2.06.94z\"/><path d=\"M17.41 7.96l-1.37-1.37c-.4-.4-.92-.59-1.43-.59-.52 0-1.04.2-1.43.59L10.3 9.45l-7.72 7.72c-.78.78-.78 2.05 0 2.83L4 21.41c.39.39.9.59 1.41.59.51 0 1.02-.2 1.41-.59l7.78-7.78 2.81-2.81c.8-.78.8-2.07 0-2.86zM5.41 20L4 18.59l7.72-7.72 1.47 1.35L5.41 20z\"/>\n",
              "  </svg>\n",
              "      </button>\n",
              "      \n",
              "  <style>\n",
              "    .colab-df-container {\n",
              "      display:flex;\n",
              "      flex-wrap:wrap;\n",
              "      gap: 12px;\n",
              "    }\n",
              "\n",
              "    .colab-df-convert {\n",
              "      background-color: #E8F0FE;\n",
              "      border: none;\n",
              "      border-radius: 50%;\n",
              "      cursor: pointer;\n",
              "      display: none;\n",
              "      fill: #1967D2;\n",
              "      height: 32px;\n",
              "      padding: 0 0 0 0;\n",
              "      width: 32px;\n",
              "    }\n",
              "\n",
              "    .colab-df-convert:hover {\n",
              "      background-color: #E2EBFA;\n",
              "      box-shadow: 0px 1px 2px rgba(60, 64, 67, 0.3), 0px 1px 3px 1px rgba(60, 64, 67, 0.15);\n",
              "      fill: #174EA6;\n",
              "    }\n",
              "\n",
              "    [theme=dark] .colab-df-convert {\n",
              "      background-color: #3B4455;\n",
              "      fill: #D2E3FC;\n",
              "    }\n",
              "\n",
              "    [theme=dark] .colab-df-convert:hover {\n",
              "      background-color: #434B5C;\n",
              "      box-shadow: 0px 1px 3px 1px rgba(0, 0, 0, 0.15);\n",
              "      filter: drop-shadow(0px 1px 2px rgba(0, 0, 0, 0.3));\n",
              "      fill: #FFFFFF;\n",
              "    }\n",
              "  </style>\n",
              "\n",
              "      <script>\n",
              "        const buttonEl =\n",
              "          document.querySelector('#df-3ce575b5-090b-4805-ba9c-c7af12bdbbd8 button.colab-df-convert');\n",
              "        buttonEl.style.display =\n",
              "          google.colab.kernel.accessAllowed ? 'block' : 'none';\n",
              "\n",
              "        async function convertToInteractive(key) {\n",
              "          const element = document.querySelector('#df-3ce575b5-090b-4805-ba9c-c7af12bdbbd8');\n",
              "          const dataTable =\n",
              "            await google.colab.kernel.invokeFunction('convertToInteractive',\n",
              "                                                     [key], {});\n",
              "          if (!dataTable) return;\n",
              "\n",
              "          const docLinkHtml = 'Like what you see? Visit the ' +\n",
              "            '<a target=\"_blank\" href=https://colab.research.google.com/notebooks/data_table.ipynb>data table notebook</a>'\n",
              "            + ' to learn more about interactive tables.';\n",
              "          element.innerHTML = '';\n",
              "          dataTable['output_type'] = 'display_data';\n",
              "          await google.colab.output.renderOutput(dataTable, element);\n",
              "          const docLink = document.createElement('div');\n",
              "          docLink.innerHTML = docLinkHtml;\n",
              "          element.appendChild(docLink);\n",
              "        }\n",
              "      </script>\n",
              "    </div>\n",
              "  </div>\n",
              "  "
            ],
            "text/plain": [
              "       0.6222863195.csv  0.6223807245.csv  0.6225426578.csv  0.6247722291.csv  \\\n",
              "3468           0.787976          0.766146          0.811711          0.647719   \n",
              "1497           0.391887          0.287414          0.243511          0.473249   \n",
              "14256          0.842185          0.681377          0.844378          0.809279   \n",
              "4430           0.420151          0.833313          0.645314          0.672589   \n",
              "11526          0.925025          0.990435          0.984974          0.981608   \n",
              "\n",
              "       0.6253455681.csv  0.6254850917.csv  0.6255093621.csv  0.6260141578.csv  \\\n",
              "3468           0.704782          0.734059          0.782494          0.816323   \n",
              "1497           0.544193          0.492985          0.277390          0.413970   \n",
              "14256          0.740575          0.714270          0.725002          0.871127   \n",
              "4430           0.559100          0.743526          0.612983          0.955029   \n",
              "11526          0.807949          0.872318          0.967987          0.985540   \n",
              "\n",
              "       0.6263493693.csv  0.6272779211.csv  ...  0.7519100517.csv  \\\n",
              "3468           0.648370          0.784312  ...          0.799370   \n",
              "1497           0.542709          0.522338  ...          0.623313   \n",
              "14256          0.690761          0.568001  ...          0.950636   \n",
              "4430           0.467677          0.357287  ...          0.618739   \n",
              "11526          0.823562          0.948422  ...          0.955587   \n",
              "\n",
              "       0.7519556278.csv  0.7520219713.csv  0.7521219579.csv  0.7522329272.csv  \\\n",
              "3468           0.778332          0.796773          0.834425          0.897805   \n",
              "1497           0.635724          0.569871          0.640815          0.561820   \n",
              "14256          0.767206          0.889435          0.808158          0.842411   \n",
              "4430           0.693751          0.627233          0.613067          0.873589   \n",
              "11526          0.934242          0.971446          0.958714          0.993526   \n",
              "\n",
              "       0.7523602310.csv  0.7526089604.csv  0.7526999358.csv  0.7551167673.csv  \\\n",
              "3468           0.830093          0.764100          0.862933          0.823330   \n",
              "1497           0.666642          0.658158          0.530511          0.692908   \n",
              "14256          0.750731          0.787292          0.916857          0.909724   \n",
              "4430           0.632866          0.643497          0.806996          0.660538   \n",
              "11526          0.972074          0.920549          0.986619          0.985780   \n",
              "\n",
              "       0.7575039918.csv  \n",
              "3468              0.498  \n",
              "1497              0.100  \n",
              "14256             0.547  \n",
              "4430              0.700  \n",
              "11526             0.840  \n",
              "\n",
              "[5 rows x 5000 columns]"
            ]
          },
          "execution_count": 23,
          "metadata": {},
          "output_type": "execute_result"
        }
      ],
      "source": [
        "X_train.head()"
      ]
    },
    {
      "cell_type": "markdown",
      "metadata": {
        "id": "Po6sY7po_fCz"
      },
      "source": [
        "**🟦EN** Reshape data for a model\n",
        "\n",
        "**🟥ES** Reshapear los datos para el modelo"
      ]
    },
    {
      "cell_type": "code",
      "execution_count": null,
      "metadata": {
        "id": "pfbbVCjO_fCz"
      },
      "outputs": [],
      "source": [
        "X_train = reshape_train(X_train)\n",
        "X_val = reshape_train(X_val)\n",
        "X_test = reshape_train(X_train_df.iloc[num_labels:])"
      ]
    },
    {
      "cell_type": "markdown",
      "metadata": {
        "id": "6wBRxX7M_fCz"
      },
      "source": [
        "**🟦EN** Get shape of the X_train\n",
        "\n",
        "**🟥ES** Conseguir los datos de X_train"
      ]
    },
    {
      "cell_type": "code",
      "execution_count": null,
      "metadata": {
        "colab": {
          "base_uri": "https://localhost:8080/"
        },
        "id": "KAUxtWPn_fCz",
        "outputId": "23e85287-9036-47b4-a1bd-8d69cce55927"
      },
      "outputs": [
        {
          "data": {
            "text/plain": [
              "((5000, 1), (16000, 5000, 1))"
            ]
          },
          "execution_count": 25,
          "metadata": {},
          "output_type": "execute_result"
        }
      ],
      "source": [
        "im_shape=(X_train.shape[1],1)\n",
        "im_shape, X_train.shape"
      ]
    },
    {
      "cell_type": "markdown",
      "metadata": {
        "id": "rH1AwWzh_fCz"
      },
      "source": [
        "## Con1D Model"
      ]
    },
    {
      "cell_type": "markdown",
      "metadata": {
        "id": "W0SeDWLJ_fCz"
      },
      "source": [
        "**🟦EN** Get shape of the X_train\n",
        "\n",
        "**🟥ES** Conseguir los datos de X_train"
      ]
    },
    {
      "cell_type": "code",
      "execution_count": null,
      "metadata": {
        "id": "Iv94Wo85_fCz"
      },
      "outputs": [],
      "source": [
        "model = tf.keras.Sequential([\n",
        "    InputLayer(input_shape=im_shape),\n",
        "    Conv1D(filters=32, kernel_size=4, activation=ACTIVATION_FUNCTION),\n",
        "    \n",
        "    AvgPool1D(3),\n",
        "    Dropout(0.3),\n",
        "    Flatten(),\n",
        "    \n",
        "    Dense(150, activation=ACTIVATION_FUNCTION),\n",
        "    Dense(100, activation=ACTIVATION_FUNCTION),\n",
        "    Dense(50, activation=ACTIVATION_FUNCTION),\n",
        "    Dense(1, activation=OUTPUT_FUNCTION),\n",
        "])"
      ]
    },
    {
      "cell_type": "code",
      "execution_count": null,
      "metadata": {
        "id": "Wirn4bmy_fC0"
      },
      "outputs": [],
      "source": [
        "model.compile(\n",
        "    optimizer=tf.keras.optimizers.Adam(learning_rate=0.02),\n",
        "    loss=\"binary_crossentropy\",\n",
        "    metrics=[\"accuracy\"],\n",
        ")"
      ]
    },
    {
      "cell_type": "code",
      "execution_count": null,
      "metadata": {
        "colab": {
          "background_save": true,
          "base_uri": "https://localhost:8080/"
        },
        "id": "xuYE09qO_fC0",
        "outputId": "90aff003-884e-43be-a232-ef45ee479815"
      },
      "outputs": [
        {
          "name": "stdout",
          "output_type": "stream",
          "text": [
            "Epoch 1/20\n",
            "500/500 [==============================] - 81s 161ms/step - loss: 1.0992 - accuracy: 0.6388 - val_loss: 0.5792 - val_accuracy: 0.7100\n",
            "Epoch 2/20\n",
            "500/500 [==============================] - 77s 153ms/step - loss: 0.5836 - accuracy: 0.6893 - val_loss: 0.5575 - val_accuracy: 0.7140\n",
            "Epoch 3/20\n",
            "500/500 [==============================] - 76s 153ms/step - loss: 0.6007 - accuracy: 0.6629 - val_loss: 0.6930 - val_accuracy: 0.5075\n",
            "Epoch 4/20\n",
            "500/500 [==============================] - 74s 148ms/step - loss: 0.6936 - accuracy: 0.5025 - val_loss: 0.6932 - val_accuracy: 0.5075\n",
            "Epoch 5/20\n",
            "500/500 [==============================] - 77s 154ms/step - loss: 0.6935 - accuracy: 0.5029 - val_loss: 0.6932 - val_accuracy: 0.4925\n",
            "Epoch 6/20\n",
            "500/500 [==============================] - 80s 159ms/step - loss: 0.6935 - accuracy: 0.5014 - val_loss: 0.6931 - val_accuracy: 0.5075\n",
            "Epoch 7/20\n",
            "500/500 [==============================] - 76s 151ms/step - loss: 0.6936 - accuracy: 0.4997 - val_loss: 0.6932 - val_accuracy: 0.4925\n",
            "Epoch 8/20\n",
            "500/500 [==============================] - 75s 149ms/step - loss: 0.6935 - accuracy: 0.5027 - val_loss: 0.6942 - val_accuracy: 0.4925\n",
            "Epoch 9/20\n",
            "500/500 [==============================] - 76s 152ms/step - loss: 0.6938 - accuracy: 0.4933 - val_loss: 0.6931 - val_accuracy: 0.5075\n",
            "Epoch 10/20\n",
            "500/500 [==============================] - 75s 150ms/step - loss: 0.6936 - accuracy: 0.4956 - val_loss: 0.6934 - val_accuracy: 0.5075\n",
            "Epoch 11/20\n",
            "500/500 [==============================] - 77s 153ms/step - loss: 0.6937 - accuracy: 0.4963 - val_loss: 0.6937 - val_accuracy: 0.4925\n",
            "Epoch 12/20\n",
            "500/500 [==============================] - 75s 150ms/step - loss: 0.6935 - accuracy: 0.5004 - val_loss: 0.6931 - val_accuracy: 0.5075\n",
            "Epoch 13/20\n",
            "500/500 [==============================] - 76s 153ms/step - loss: 0.6935 - accuracy: 0.5013 - val_loss: 0.6932 - val_accuracy: 0.4925\n",
            "Epoch 14/20\n",
            "500/500 [==============================] - 76s 153ms/step - loss: 0.6936 - accuracy: 0.5024 - val_loss: 0.6931 - val_accuracy: 0.5075\n",
            "Epoch 15/20\n",
            "500/500 [==============================] - 79s 158ms/step - loss: 0.6935 - accuracy: 0.4995 - val_loss: 0.6932 - val_accuracy: 0.4925\n",
            "Epoch 16/20\n",
            "500/500 [==============================] - 74s 148ms/step - loss: 0.6937 - accuracy: 0.4980 - val_loss: 0.6931 - val_accuracy: 0.5075\n",
            "Epoch 17/20\n",
            "500/500 [==============================] - 76s 151ms/step - loss: 0.6934 - accuracy: 0.5031 - val_loss: 0.6935 - val_accuracy: 0.4925\n",
            "Epoch 18/20\n",
            "500/500 [==============================] - 74s 149ms/step - loss: 0.6936 - accuracy: 0.5006 - val_loss: 0.6932 - val_accuracy: 0.4925\n",
            "Epoch 19/20\n",
            "500/500 [==============================] - 76s 152ms/step - loss: 0.6936 - accuracy: 0.5002 - val_loss: 0.6930 - val_accuracy: 0.5075\n",
            "Epoch 20/20\n",
            "500/500 [==============================] - 75s 150ms/step - loss: 0.6938 - accuracy: 0.4990 - val_loss: 0.6960 - val_accuracy: 0.4925\n"
          ]
        }
      ],
      "source": [
        "history = model.fit(\n",
        "        X_train, y_train,\n",
        "        epochs=20,\n",
        "        validation_data=(X_val, y_val)\n",
        ")"
      ]
    },
    {
      "cell_type": "markdown",
      "metadata": {
        "id": "szeN_aGU_fC0"
      },
      "source": [
        "**🟦EN** Show a plot of loss / val_loss and accuracy / val_accuracy\n",
        "\n",
        "**🟥ES** Mostramos un plot de loss / val_loss y accuracy / val_accuracy"
      ]
    },
    {
      "cell_type": "code",
      "execution_count": null,
      "metadata": {
        "colab": {
          "background_save": true
        },
        "id": "t7BkXITM_fC0",
        "outputId": "3a90ffdd-39e4-42b2-dd85-94579fedefd5"
      },
      "outputs": [
        {
          "data": {
            "text/plain": [
              "<matplotlib.legend.Legend at 0x7f8f9b9370d0>"
            ]
          },
          "execution_count": 29,
          "metadata": {},
          "output_type": "execute_result"
        },
        {
          "data": {
            "image/png": "[encoded data removed]",
            "text/plain": [
              "<Figure size 1440x576 with 2 Axes>"
            ]
          },
          "metadata": {},
          "output_type": "display_data"
        }
      ],
      "source": [
        "plt.figure(1,figsize=(20,8))\n",
        "\n",
        "plt.subplot(1,2,1)\n",
        "plt.xlabel(\"epochs\")\n",
        "plt.ylabel(\"Loss\")\n",
        "plt.plot(history.history['loss'], label = 'train loss')\n",
        "plt.plot(history.history['val_loss'], label = 'val loss')\n",
        "plt.grid(True)\n",
        "plt.legend()\n",
        "\n",
        "plt.subplot(1,2,2)\n",
        "plt.xlabel(\"epochs\")\n",
        "plt.ylabel(\"accuracy\")\n",
        "plt.plot(history.history['accuracy'], label = 'train accuracy')\n",
        "plt.plot(history.history['val_accuracy'], label = 'val accuracy')\n",
        "plt.grid(True)\n",
        "plt.legend()"
      ]
    },
    {
      "cell_type": "markdown",
      "metadata": {
        "id": "rwNig9jr_fC0"
      },
      "source": [
        "# Submission 📩"
      ]
    },
    {
      "cell_type": "code",
      "execution_count": null,
      "metadata": {
        "colab": {
          "background_save": true
        },
        "id": "sC0TthuC_fC0",
        "outputId": "01840d2c-0ee9-4785-d092-a9b11f7e5bb5"
      },
      "outputs": [
        {
          "name": "stdout",
          "output_type": "stream",
          "text": [
            "625/625 [==============================] - 26s 41ms/step\n"
          ]
        },
        {
          "data": {
            "text/html": [
              "\n",
              "  <div id=\"df-a8094720-c1b0-4d73-92e5-db96222f9707\">\n",
              "    <div class=\"colab-df-container\">\n",
              "      <div>\n",
              "<style scoped>\n",
              "    .dataframe tbody tr th:only-of-type {\n",
              "        vertical-align: middle;\n",
              "    }\n",
              "\n",
              "    .dataframe tbody tr th {\n",
              "        vertical-align: top;\n",
              "    }\n",
              "\n",
              "    .dataframe thead th {\n",
              "        text-align: right;\n",
              "    }\n",
              "</style>\n",
              "<table border=\"1\" class=\"dataframe\">\n",
              "  <thead>\n",
              "    <tr style=\"text-align: right;\">\n",
              "      <th></th>\n",
              "      <th>id</th>\n",
              "      <th>pred</th>\n",
              "    </tr>\n",
              "  </thead>\n",
              "  <tbody>\n",
              "    <tr>\n",
              "      <th>0</th>\n",
              "      <td>20000</td>\n",
              "      <td>0.531096</td>\n",
              "    </tr>\n",
              "    <tr>\n",
              "      <th>1</th>\n",
              "      <td>20001</td>\n",
              "      <td>0.531096</td>\n",
              "    </tr>\n",
              "    <tr>\n",
              "      <th>2</th>\n",
              "      <td>20002</td>\n",
              "      <td>0.531096</td>\n",
              "    </tr>\n",
              "    <tr>\n",
              "      <th>3</th>\n",
              "      <td>20003</td>\n",
              "      <td>0.531096</td>\n",
              "    </tr>\n",
              "    <tr>\n",
              "      <th>4</th>\n",
              "      <td>20004</td>\n",
              "      <td>0.531096</td>\n",
              "    </tr>\n",
              "  </tbody>\n",
              "</table>\n",
              "</div>\n",
              "      <button class=\"colab-df-convert\" onclick=\"convertToInteractive('df-a8094720-c1b0-4d73-92e5-db96222f9707')\"\n",
              "              title=\"Convert this dataframe to an interactive table.\"\n",
              "              style=\"display:none;\">\n",
              "        \n",
              "  <svg xmlns=\"http://www.w3.org/2000/svg\" height=\"24px\"viewBox=\"0 0 24 24\"\n",
              "       width=\"24px\">\n",
              "    <path d=\"M0 0h24v24H0V0z\" fill=\"none\"/>\n",
              "    <path d=\"M18.56 5.44l.94 2.06.94-2.06 2.06-.94-2.06-.94-.94-2.06-.94 2.06-2.06.94zm-11 1L8.5 8.5l.94-2.06 2.06-.94-2.06-.94L8.5 2.5l-.94 2.06-2.06.94zm10 10l.94 2.06.94-2.06 2.06-.94-2.06-.94-.94-2.06-.94 2.06-2.06.94z\"/><path d=\"M17.41 7.96l-1.37-1.37c-.4-.4-.92-.59-1.43-.59-.52 0-1.04.2-1.43.59L10.3 9.45l-7.72 7.72c-.78.78-.78 2.05 0 2.83L4 21.41c.39.39.9.59 1.41.59.51 0 1.02-.2 1.41-.59l7.78-7.78 2.81-2.81c.8-.78.8-2.07 0-2.86zM5.41 20L4 18.59l7.72-7.72 1.47 1.35L5.41 20z\"/>\n",
              "  </svg>\n",
              "      </button>\n",
              "      \n",
              "  <style>\n",
              "    .colab-df-container {\n",
              "      display:flex;\n",
              "      flex-wrap:wrap;\n",
              "      gap: 12px;\n",
              "    }\n",
              "\n",
              "    .colab-df-convert {\n",
              "      background-color: #E8F0FE;\n",
              "      border: none;\n",
              "      border-radius: 50%;\n",
              "      cursor: pointer;\n",
              "      display: none;\n",
              "      fill: #1967D2;\n",
              "      height: 32px;\n",
              "      padding: 0 0 0 0;\n",
              "      width: 32px;\n",
              "    }\n",
              "\n",
              "    .colab-df-convert:hover {\n",
              "      background-color: #E2EBFA;\n",
              "      box-shadow: 0px 1px 2px rgba(60, 64, 67, 0.3), 0px 1px 3px 1px rgba(60, 64, 67, 0.15);\n",
              "      fill: #174EA6;\n",
              "    }\n",
              "\n",
              "    [theme=dark] .colab-df-convert {\n",
              "      background-color: #3B4455;\n",
              "      fill: #D2E3FC;\n",
              "    }\n",
              "\n",
              "    [theme=dark] .colab-df-convert:hover {\n",
              "      background-color: #434B5C;\n",
              "      box-shadow: 0px 1px 3px 1px rgba(0, 0, 0, 0.15);\n",
              "      filter: drop-shadow(0px 1px 2px rgba(0, 0, 0, 0.3));\n",
              "      fill: #FFFFFF;\n",
              "    }\n",
              "  </style>\n",
              "\n",
              "      <script>\n",
              "        const buttonEl =\n",
              "          document.querySelector('#df-a8094720-c1b0-4d73-92e5-db96222f9707 button.colab-df-convert');\n",
              "        buttonEl.style.display =\n",
              "          google.colab.kernel.accessAllowed ? 'block' : 'none';\n",
              "\n",
              "        async function convertToInteractive(key) {\n",
              "          const element = document.querySelector('#df-a8094720-c1b0-4d73-92e5-db96222f9707');\n",
              "          const dataTable =\n",
              "            await google.colab.kernel.invokeFunction('convertToInteractive',\n",
              "                                                     [key], {});\n",
              "          if (!dataTable) return;\n",
              "\n",
              "          const docLinkHtml = 'Like what you see? Visit the ' +\n",
              "            '<a target=\"_blank\" href=https://colab.research.google.com/notebooks/data_table.ipynb>data table notebook</a>'\n",
              "            + ' to learn more about interactive tables.';\n",
              "          element.innerHTML = '';\n",
              "          dataTable['output_type'] = 'display_data';\n",
              "          await google.colab.output.renderOutput(dataTable, element);\n",
              "          const docLink = document.createElement('div');\n",
              "          docLink.innerHTML = docLinkHtml;\n",
              "          element.appendChild(docLink);\n",
              "        }\n",
              "      </script>\n",
              "    </div>\n",
              "  </div>\n",
              "  "
            ],
            "text/plain": [
              "      id      pred\n",
              "0  20000  0.531096\n",
              "1  20001  0.531096\n",
              "2  20002  0.531096\n",
              "3  20003  0.531096\n",
              "4  20004  0.531096"
            ]
          },
          "execution_count": 30,
          "metadata": {},
          "output_type": "execute_result"
        }
      ],
      "source": [
        "pred_val = model.predict(X_test)\n",
        "submission = pd.read_csv(SAMPLE_SUBMISSION)\n",
        "submission['pred'] = pred_val\n",
        "submission.head()"
      ]
    },
    {
      "cell_type": "code",
      "execution_count": null,
      "metadata": {
        "colab": {
          "background_save": true
        },
        "id": "L2OMmHFf_fC0",
        "outputId": "29bbbba9-bb8a-420a-8e11-2f187ad060bb"
      },
      "outputs": [
        {
          "data": {
            "image/png": "[encoded data removed]",
            "text/plain": [
              "<Figure size 1080x360 with 1 Axes>"
            ]
          },
          "metadata": {},
          "output_type": "display_data"
        },
        {
          "name": "stdout",
          "output_type": "stream",
          "text": [
            "Mean Value: 0.53109634\n"
          ]
        }
      ],
      "source": [
        "sns.set()\n",
        "plt.figure(figsize=(15, 5))\n",
        "plt.gca().set_facecolor('lightblue')\n",
        "plt.hist(submission['pred'], bins=500, color='Green')\n",
        "    \n",
        "plt.xlabel('Label')\n",
        "plt.title('Submission', fontsize=16)\n",
        "plt.show() \n",
        "\n",
        "print('Mean Value:', submission['pred'].mean())"
      ]
    },
    {
      "cell_type": "code",
      "execution_count": null,
      "metadata": {
        "colab": {
          "background_save": true
        },
        "id": "yvXbum7p_fC0"
      },
      "outputs": [],
      "source": [
        "submission.to_csv('submission.csv', index=False)"
      ]
    }
  ],
  "metadata": {
    "colab": {
      "provenance": [],
      "include_colab_link": true
    },
    "kernelspec": {
      "display_name": "Python 3",
      "language": "python",
      "name": "python3"
    },
    "language_info": {
      "codemirror_mode": {
        "name": "ipython",
        "version": 3
      },
      "file_extension": ".py",
      "mimetype": "text/x-python",
      "name": "python",
      "nbconvert_exporter": "python",
      "pygments_lexer": "ipython3",
      "version": "3.7.12"
    }
  },
  "nbformat": 4,
  "nbformat_minor": 0
}